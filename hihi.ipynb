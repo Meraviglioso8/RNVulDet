{
 "cells": [
  {
   "cell_type": "code",
   "execution_count": 25,
   "metadata": {},
   "outputs": [
    {
     "name": "stdout",
     "output_type": "stream",
     "text": [
      "OK\n",
      "OK\n",
      "OK\n",
      "OK\n",
      "OK\n"
     ]
    }
   ],
   "source": [
    "import re\n",
    "\n",
    "def check(line):\n",
    "    version_regex = r'pragma solidity ([><^]?=?\\s?\\^?\\s?(\\d+\\.\\d+\\.\\d+));'\n",
    "    #version_regex = r'pragma solidity \\^?(\\d+\\.\\d+\\.\\d+);'\n",
    "    match = re.match(version_regex, line)\n",
    "    \n",
    "    if match:\n",
    "        print(\"OK\")\n",
    "    else:\n",
    "        print(\"Not ok\")\n",
    "\n",
    "line1 = 'pragma solidity >=0.8.4;'\n",
    "line2 = 'pragma solidity <=0.8.4;'\n",
    "line2 = 'pragma solidity >0.8.4;'\n",
    "line2 = 'pragma solidity <0.8.4;'\n",
    "line3 = 'pragma solidity <^0.8.4;'\n",
    "line4 = 'pragma solidity ^0.8.4;'\n",
    "line5 = 'pragma solidity 0.8.4;'\n",
    "\n",
    "check(line1)\n",
    "check(line2)\n",
    "check(line3)\n",
    "check(line4)\n",
    "check(line5)\n"
   ]
  },
  {
   "cell_type": "code",
   "execution_count": 3,
   "metadata": {},
   "outputs": [
    {
     "name": "stdout",
     "output_type": "stream",
     "text": [
      "pragma solidity >=0.8.4 <=0.9.0;: OK\n",
      "pragma solidity <=0.8.4;: OK\n",
      "pragma solidity >0.8.4;: OK\n",
      "pragma solidity <0.8.4;: OK\n",
      "pragma solidity <^0.8.4;: OK\n",
      "pragma solidity ^0.8.4;: OK\n",
      "pragma solidity 0.8.4;: OK\n",
      "pragma solidity ^=0.8.4;: OK\n"
     ]
    }
   ],
   "source": [
    "import re\n",
    "\n",
    "def check(line):\n",
    "    version_regex = r'pragma solidity ([><^]?=?\\s?\\^?\\s?(\\d+\\.\\d+\\.\\d+))(\\s?[<]?=?\\s?\\^?\\s?(\\d+\\.\\d+\\.\\d+))?'\n",
    "    match = re.match(version_regex, line)\n",
    "    \n",
    "    if match:\n",
    "        print(f\"{line}: OK\")\n",
    "    else:\n",
    "        print(f\"{line}: Not ok\")\n",
    "\n",
    "lines = [\n",
    "    'pragma solidity >=0.8.4 <=0.9.0;',\n",
    "    'pragma solidity <=0.8.4;',\n",
    "    'pragma solidity >0.8.4;',\n",
    "    'pragma solidity <0.8.4;',\n",
    "    'pragma solidity <^0.8.4;',\n",
    "    'pragma solidity ^0.8.4;',\n",
    "    'pragma solidity 0.8.4;',\n",
    "    'pragma solidity ^=0.8.4;',\n",
    "]\n",
    "\n",
    "for line in lines:\n",
    "    check(line)\n"
   ]
  },
  {
   "cell_type": "code",
   "execution_count": 17,
   "metadata": {},
   "outputs": [
    {
     "name": "stdout",
     "output_type": "stream",
     "text": [
      "0.4.9\n"
     ]
    }
   ],
   "source": [
    "import re\n",
    "\n",
    "version_string = \"pragma solidity >0.3.9\"\n",
    "\n",
    "def extract_version(version_string):\n",
    "    match = re.search(r'\\s*([<>=^])?\\s*(\\d+\\.\\d+\\.\\d+)', version_string)\n",
    "    if match:\n",
    "        operator, version = match.group(1), match.group(2)\n",
    "        if operator == '>=':\n",
    "            return version\n",
    "        elif operator == '=':\n",
    "            return version\n",
    "        elif operator == '<':\n",
    "            major, minor, patch = map(int, version.split('.'))\n",
    "            if patch == 0 and minor > 0:\n",
    "                return f\"{major}.{minor-1}.9\"\n",
    "            elif minor == 0 and patch == 0:\n",
    "                return f\"{major-1}.9.9\"\n",
    "            else:\n",
    "                return f\"{major}.{minor}.{patch-1}\"\n",
    "        elif operator == '^':\n",
    "            major, minor, patch = map(int, version.split('.'))\n",
    "            if patch == 9 and minor < 9:\n",
    "                return f\"{major}.{minor+1}.{patch}\"\n",
    "            elif minor == 9 and patch == 9:\n",
    "                return f\"{major+1}.0.0\"\n",
    "            else:\n",
    "                return f\"{major}.{minor}.{patch+1}\"\n",
    "        elif operator == '>':\n",
    "            major, minor, patch = map(int, version.split('.'))\n",
    "            if patch == 9 and minor < 9:\n",
    "                return f\"{major}.{minor+1}.0\"\n",
    "            elif minor == 9 and patch == 9:\n",
    "                return f\"{major+1}.0.0\"\n",
    "            else:\n",
    "                return f\"{major}.{minor}.{patch+1}\"\n",
    "    return None\n",
    "\n",
    "print(extract_version(version_string))\n"
   ]
  }
 ],
 "metadata": {
  "kernelspec": {
   "display_name": "Python 3",
   "language": "python",
   "name": "python3"
  },
  "language_info": {
   "codemirror_mode": {
    "name": "ipython",
    "version": 3
   },
   "file_extension": ".py",
   "mimetype": "text/x-python",
   "name": "python",
   "nbconvert_exporter": "python",
   "pygments_lexer": "ipython3",
   "version": "3.10.9"
  }
 },
 "nbformat": 4,
 "nbformat_minor": 2
}
